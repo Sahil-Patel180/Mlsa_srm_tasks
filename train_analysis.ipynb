{
 "cells": [
  {
   "cell_type": "code",
   "id": "initial_id",
   "metadata": {
    "collapsed": true,
    "ExecuteTime": {
     "end_time": "2024-09-27T21:09:57.275963Z",
     "start_time": "2024-09-27T21:09:57.219555Z"
    }
   },
   "source": [
    "import pandas as pd\n",
    "import numpy as np\n",
    "import seaborn as sns\n",
    "import matplotlib.pyplot as plt\n",
    "\n",
    "file_path = 'train.csv'\n",
    "df = pd.read_csv(file_path)\n",
    "print(\"Dataset Overview:\")\n",
    "print(df.info())"
   ],
   "outputs": [
    {
     "name": "stdout",
     "output_type": "stream",
     "text": [
      "Dataset Overview:\n",
      "<class 'pandas.core.frame.DataFrame'>\n",
      "RangeIndex: 891 entries, 0 to 890\n",
      "Data columns (total 12 columns):\n",
      " #   Column       Non-Null Count  Dtype  \n",
      "---  ------       --------------  -----  \n",
      " 0   PassengerId  891 non-null    int64  \n",
      " 1   Survived     891 non-null    int64  \n",
      " 2   Pclass       891 non-null    int64  \n",
      " 3   Name         891 non-null    object \n",
      " 4   Sex          891 non-null    object \n",
      " 5   Age          714 non-null    float64\n",
      " 6   SibSp        891 non-null    int64  \n",
      " 7   Parch        891 non-null    int64  \n",
      " 8   Ticket       891 non-null    object \n",
      " 9   Fare         891 non-null    float64\n",
      " 10  Cabin        204 non-null    object \n",
      " 11  Embarked     889 non-null    object \n",
      "dtypes: float64(2), int64(5), object(5)\n",
      "memory usage: 83.7+ KB\n",
      "None\n"
     ]
    }
   ],
   "execution_count": 23
  },
  {
   "metadata": {
    "ExecuteTime": {
     "end_time": "2024-09-27T21:10:01.582023Z",
     "start_time": "2024-09-27T21:10:01.568061Z"
    }
   },
   "cell_type": "code",
   "source": [
    "# Check for missing values\n",
    "\n",
    "print(\"\\nMissing values:\")\n",
    "print(df.isnull().sum())"
   ],
   "id": "192023fccd297a4b",
   "outputs": [
    {
     "name": "stdout",
     "output_type": "stream",
     "text": [
      "\n",
      "Missing values:\n",
      "PassengerId      0\n",
      "Survived         0\n",
      "Pclass           0\n",
      "Name             0\n",
      "Sex              0\n",
      "Age            177\n",
      "SibSp            0\n",
      "Parch            0\n",
      "Ticket           0\n",
      "Fare             0\n",
      "Cabin          687\n",
      "Embarked         2\n",
      "dtype: int64\n"
     ]
    }
   ],
   "execution_count": 24
  },
  {
   "metadata": {
    "ExecuteTime": {
     "end_time": "2024-09-27T21:11:08.795538Z",
     "start_time": "2024-09-27T21:11:08.787613Z"
    }
   },
   "cell_type": "code",
   "source": [
    "# Finding passenger distribution by class\n",
    "\n",
    "print(\"\\nPassenger distribution by class (pclass):\")\n",
    "print(df['Pclass'].value_counts())"
   ],
   "id": "1eb1a292bfe61a23",
   "outputs": [
    {
     "name": "stdout",
     "output_type": "stream",
     "text": [
      "\n",
      "Passenger distribution by class (pclass):\n",
      "Pclass\n",
      "3    491\n",
      "1    216\n",
      "2    184\n",
      "Name: count, dtype: int64\n"
     ]
    }
   ],
   "execution_count": 27
  },
  {
   "metadata": {
    "ExecuteTime": {
     "end_time": "2024-09-27T21:11:28.007590Z",
     "start_time": "2024-09-27T21:11:27.995323Z"
    }
   },
   "cell_type": "code",
   "source": [
    "# Finding passenger distribution by gender\n",
    "\n",
    "print(\"\\nPassenger distribution by gender (sex):\")\n",
    "print(df['Sex'].value_counts())"
   ],
   "id": "336885ecbeb6c555",
   "outputs": [
    {
     "name": "stdout",
     "output_type": "stream",
     "text": [
      "\n",
      "Passenger distribution by gender (sex):\n",
      "Sex\n",
      "male      577\n",
      "female    314\n",
      "Name: count, dtype: int64\n"
     ]
    }
   ],
   "execution_count": 28
  },
  {
   "metadata": {
    "ExecuteTime": {
     "end_time": "2024-09-27T21:11:52.592553Z",
     "start_time": "2024-09-27T21:11:52.559413Z"
    }
   },
   "cell_type": "code",
   "source": [
    "# Finding passenger survival rate\n",
    "\n",
    "survival_rate = df['Survived'].value_counts(normalize=True) * 100\n",
    "print(f\"\\nOverall survival rate: {survival_rate[1]:.2f}%\")"
   ],
   "id": "bd6aad8146437c7b",
   "outputs": [
    {
     "name": "stdout",
     "output_type": "stream",
     "text": [
      "\n",
      "Overall survival rate: 38.38%\n"
     ]
    }
   ],
   "execution_count": 29
  },
  {
   "metadata": {
    "ExecuteTime": {
     "end_time": "2024-09-27T21:12:14.307336Z",
     "start_time": "2024-09-27T21:12:14.281141Z"
    }
   },
   "cell_type": "code",
   "source": [
    "# Finding survival rate by class\n",
    "\n",
    "survival_by_class = df.groupby('Pclass')['Survived'].mean() * 100\n",
    "print(\"\\nSurvival rate by class:\")\n",
    "print(survival_by_class)"
   ],
   "id": "b4f1a5df172d5c15",
   "outputs": [
    {
     "name": "stdout",
     "output_type": "stream",
     "text": [
      "\n",
      "Survival rate by class:\n",
      "Pclass\n",
      "1    62.962963\n",
      "2    47.282609\n",
      "3    24.236253\n",
      "Name: Survived, dtype: float64\n"
     ]
    }
   ],
   "execution_count": 30
  },
  {
   "metadata": {
    "ExecuteTime": {
     "end_time": "2024-09-27T21:13:10.318992Z",
     "start_time": "2024-09-27T21:13:10.300674Z"
    }
   },
   "cell_type": "code",
   "source": [
    "# Finding survival rate by gender\n",
    "\n",
    "survival_by_gender = df.groupby('Sex')['Survived'].mean() * 100\n",
    "print(\"\\nSurvival rate by gender:\")\n",
    "print(survival_by_gender)"
   ],
   "id": "3caeb45ae0293f48",
   "outputs": [
    {
     "name": "stdout",
     "output_type": "stream",
     "text": [
      "\n",
      "Survival rate by gender:\n",
      "Sex\n",
      "female    74.203822\n",
      "male      18.890815\n",
      "Name: Survived, dtype: float64\n"
     ]
    }
   ],
   "execution_count": 31
  },
  {
   "metadata": {
    "ExecuteTime": {
     "end_time": "2024-09-27T21:14:17.266384Z",
     "start_time": "2024-09-27T21:14:17.251071Z"
    }
   },
   "cell_type": "code",
   "source": [
    "# Finding survival rate by age\n",
    "\n",
    "bins = [0, 12, 18, 35, 60, 80]\n",
    "labels = ['Child', 'Teenager', 'Adult', 'Middle-aged', 'Senior']\n",
    "df['AgeGroup'] = pd.cut(df['Age'], bins=bins, labels=labels)\n",
    "\n",
    "print(\"\\nSurvival rate by age group:\")\n",
    "print(survival_by_age)"
   ],
   "id": "165016a1d8f8caf3",
   "outputs": [
    {
     "name": "stdout",
     "output_type": "stream",
     "text": [
      "\n",
      "Survival rate by age group:\n",
      "AgeGroup\n",
      "Child          57.971014\n",
      "Teenager       42.857143\n",
      "Adult          35.327103\n",
      "Middle-aged    40.000000\n",
      "Senior         22.727273\n",
      "Name: Survived, dtype: float64\n"
     ]
    }
   ],
   "execution_count": 34
  },
  {
   "metadata": {
    "ExecuteTime": {
     "end_time": "2024-09-27T21:14:32.724520Z",
     "start_time": "2024-09-27T21:14:32.551511Z"
    }
   },
   "cell_type": "code",
   "source": [
    "# Finding analyzing fare\n",
    "\n",
    "print(\"\\nFare analysis (grouped by class):\")\n",
    "print(df.groupby('Pclass')['Fare'].describe())"
   ],
   "id": "926f43929bdd2bfb",
   "outputs": [
    {
     "name": "stdout",
     "output_type": "stream",
     "text": [
      "\n",
      "Fare analysis (grouped by class):\n",
      "        count       mean        std  min       25%      50%   75%       max\n",
      "Pclass                                                                     \n",
      "1       216.0  84.154687  78.380373  0.0  30.92395  60.2875  93.5  512.3292\n",
      "2       184.0  20.662183  13.417399  0.0  13.00000  14.2500  26.0   73.5000\n",
      "3       491.0  13.675550  11.778142  0.0   7.75000   8.0500  15.5   69.5500\n"
     ]
    }
   ],
   "execution_count": 35
  },
  {
   "metadata": {
    "ExecuteTime": {
     "end_time": "2024-09-27T21:14:54.110230Z",
     "start_time": "2024-09-27T21:14:54.088910Z"
    }
   },
   "cell_type": "code",
   "source": [
    "# Finding embarked location and survival rate\n",
    "\n",
    "survival_by_embark = df.groupby('Embarked')['Survived'].mean() * 100\n",
    "print(\"\\nSurvival rate by embarkation point:\")\n",
    "print(survival_by_embark)"
   ],
   "id": "4a59c201fc138e38",
   "outputs": [
    {
     "name": "stdout",
     "output_type": "stream",
     "text": [
      "\n",
      "Survival rate by embarkation point:\n",
      "Embarked\n",
      "C    55.357143\n",
      "Q    38.961039\n",
      "S    33.695652\n",
      "Name: Survived, dtype: float64\n"
     ]
    }
   ],
   "execution_count": 36
  },
  {
   "metadata": {
    "ExecuteTime": {
     "end_time": "2024-09-27T20:53:55.624729Z",
     "start_time": "2024-09-27T20:53:55.511053Z"
    }
   },
   "cell_type": "code",
   "source": "plt.figure(figsize=(10, 6))",
   "id": "7997cf49ba770d06",
   "outputs": [
    {
     "data": {
      "text/plain": [
       "<Figure size 1000x600 with 0 Axes>"
      ]
     },
     "execution_count": 15,
     "metadata": {},
     "output_type": "execute_result"
    },
    {
     "data": {
      "text/plain": [
       "<Figure size 1000x600 with 0 Axes>"
      ]
     },
     "metadata": {},
     "output_type": "display_data"
    }
   ],
   "execution_count": 15
  },
  {
   "metadata": {
    "ExecuteTime": {
     "end_time": "2024-09-27T21:15:14.775218Z",
     "start_time": "2024-09-27T21:15:13.457988Z"
    }
   },
   "cell_type": "code",
   "source": [
    "# class vs survival\n",
    "\n",
    "plt.subplot(2, 2, 1)\n",
    "sns.barplot(x='Pclass', y='Survived', data=df)\n",
    "plt.title('Survival rate by passenger class')"
   ],
   "id": "5e4b67975fb4a941",
   "outputs": [
    {
     "data": {
      "text/plain": [
       "Text(0.5, 1.0, 'Survival rate by passenger class')"
      ]
     },
     "execution_count": 37,
     "metadata": {},
     "output_type": "execute_result"
    },
    {
     "data": {
      "text/plain": [
       "<Figure size 640x480 with 1 Axes>"
      ],
      "image/png": "[encoded data removed]"
     },
     "metadata": {},
     "output_type": "display_data"
    }
   ],
   "execution_count": 37
  },
  {
   "metadata": {
    "ExecuteTime": {
     "end_time": "2024-09-27T21:15:33.539898Z",
     "start_time": "2024-09-27T21:15:33.086489Z"
    }
   },
   "cell_type": "code",
   "source": [
    "# gender vs survival\n",
    "\n",
    "plt.subplot(2, 2, 2)\n",
    "sns.barplot(x='Sex', y='Survived', data=df)\n",
    "plt.title('Survival rate by gender')"
   ],
   "id": "3d1d0c9c58bf054f",
   "outputs": [
    {
     "data": {
      "text/plain": [
       "Text(0.5, 1.0, 'Survival rate by gender')"
      ]
     },
     "execution_count": 38,
     "metadata": {},
     "output_type": "execute_result"
    },
    {
     "data": {
      "text/plain": [
       "<Figure size 640x480 with 1 Axes>"
      ],
      "image/png": "[encoded data removed]"
     },
     "metadata": {},
     "output_type": "display_data"
    }
   ],
   "execution_count": 38
  },
  {
   "metadata": {
    "ExecuteTime": {
     "end_time": "2024-09-27T21:17:28.875845Z",
     "start_time": "2024-09-27T21:17:28.296286Z"
    }
   },
   "cell_type": "code",
   "source": [
    "# Age group vs survival\n",
    "\n",
    "plt.subplot(2, 2, 3)\n",
    "sns.barplot(x='AgeGroup', y='Survived', data=df)\n",
    "plt.title('Survival rate by age group')"
   ],
   "id": "efa93923c5b8ad50",
   "outputs": [
    {
     "data": {
      "text/plain": [
       "Text(0.5, 1.0, 'Survival rate by age group')"
      ]
     },
     "execution_count": 50,
     "metadata": {},
     "output_type": "execute_result"
    },
    {
     "data": {
      "text/plain": [
       "<Figure size 640x480 with 1 Axes>"
      ],
      "image/png": "[encoded data removed]"
     },
     "metadata": {},
     "output_type": "display_data"
    }
   ],
   "execution_count": 50
  },
  {
   "metadata": {
    "ExecuteTime": {
     "end_time": "2024-09-27T21:17:45.560393Z",
     "start_time": "2024-09-27T21:17:45.067734Z"
    }
   },
   "cell_type": "code",
   "source": [
    "# Embarkation point vs survival\n",
    "\n",
    "plt.subplot(2, 2, 4)\n",
    "sns.barplot(x='Embarked', y='Survived', data=df)\n",
    "plt.title('Survival rate by embarkation point')\n",
    "\n",
    "plt.tight_layout()\n",
    "plt.show()"
   ],
   "id": "2b9bf6b928330d14",
   "outputs": [
    {
     "data": {
      "text/plain": [
       "<Figure size 640x480 with 1 Axes>"
      ],
      "image/png": "[encoded data removed]"
     },
     "metadata": {},
     "output_type": "display_data"
    }
   ],
   "execution_count": 51
  }
 ],
 "metadata": {
  "kernelspec": {
   "display_name": "Python 3",
   "language": "python",
   "name": "python3"
  },
  "language_info": {
   "codemirror_mode": {
    "name": "ipython",
    "version": 2
   },
   "file_extension": ".py",
   "mimetype": "text/x-python",
   "name": "python",
   "nbconvert_exporter": "python",
   "pygments_lexer": "ipython2",
   "version": "2.7.6"
  }
 },
 "nbformat": 4,
 "nbformat_minor": 5
}
