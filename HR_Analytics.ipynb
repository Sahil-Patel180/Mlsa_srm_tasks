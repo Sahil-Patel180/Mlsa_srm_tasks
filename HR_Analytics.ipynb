{
 "cells": [
  {
   "cell_type": "code",
   "id": "875b3f7183a53ffb",
   "metadata": {
    "collapsed": true,
    "jupyter": {
     "is_executing": true
    }
   },
   "source": [
    "import pandas as pd\n",
    "import matplotlib.pyplot as plt\n",
    "import seaborn as sns\n",
    "\n",
    "file_path = 'HR_Analytics.csv'\n",
    "data = pd.read_csv(file_path)"
   ],
   "outputs": [],
   "execution_count": null
  },
  {
   "metadata": {},
   "cell_type": "code",
   "outputs": [],
   "execution_count": null,
   "source": [
    "# Q1: For the given dataset, calculate the variance, standard deviation, and interquartile range (IQR) of the salaries of employees in the HR and Marketing departments.\n",
    "\n",
    "hr_marketing_data = data[data['Department'].isin(['Human Resources', 'Marketing'])]\n",
    "hr_marketing_salaries = hr_marketing_data['MonthlyIncome']\n",
    "variance_salaries = hr_marketing_salaries.var()\n",
    "std_dev_salaries = hr_marketing_salaries.std()\n",
    "iqr_salaries = hr_marketing_salaries.quantile(0.75) - hr_marketing_salaries.quantile(0.25)\n",
    "\n",
    "print(\"HR and Marketing salaries statistics\")\n",
    "print(f\"Variance: {variance_salaries}\")\n",
    "print(f\"Standard deviation: {std_dev_salaries}\")\n",
    "print(f\"IQR: {iqr_salaries}\\n\")"
   ],
   "id": "80d35c37e45fbc75"
  },
  {
   "metadata": {},
   "cell_type": "code",
   "outputs": [],
   "execution_count": null,
   "source": [
    "# Q2: What is the range of experience in the IT department?\n",
    "\n",
    "it_data = data[data['Department'] == 'Information Technology']\n",
    "it_experience_range = it_data['TotalWorkingYears'].max() - it_data['TotalWorkingYears'].min()\n",
    "\n",
    "print(\"IT department experience range\")\n",
    "print(f\"Range: {it_experience_range}\\n\")"
   ],
   "id": "5f6ab409933cdd7a"
  },
  {
   "metadata": {},
   "cell_type": "code",
   "outputs": [],
   "execution_count": null,
   "source": [
    "# Q3: Create a boxplot to display the experience of each department.\n",
    "\n",
    "plt.figure(figsize=(10, 6))\n",
    "sns.boxplot(x='Department', y='TotalWorkingYears', data=data)\n",
    "plt.title('Experience by department')\n",
    "plt.xticks(rotation=45)\n",
    "plt.show()"
   ],
   "id": "d52d52332156eea9"
  },
  {
   "metadata": {},
   "cell_type": "code",
   "outputs": [],
   "execution_count": null,
   "source": [
    "# Q4: Which feature has the highest standard deviation in the dataset?\n",
    "\n",
    "numerical_features = data.select_dtypes(include='number')\n",
    "std_devs = numerical_features.std()\n",
    "highest_std_feature = std_devs.idxmax(), std_devs.max()\n",
    "\n",
    "print(\"Feature with the highest standard deviation\")\n",
    "print(f\"Feature: {highest_std_feature[0]}, Std dev: {highest_std_feature[1]}\")"
   ],
   "id": "initial_id"
  }
 ],
 "metadata": {
  "kernelspec": {
   "display_name": "Python 3",
   "language": "python",
   "name": "python3"
  },
  "language_info": {
   "codemirror_mode": {
    "name": "ipython",
    "version": 2
   },
   "file_extension": ".py",
   "mimetype": "text/x-python",
   "name": "python",
   "nbconvert_exporter": "python",
   "pygments_lexer": "ipython2",
   "version": "2.7.6"
  }
 },
 "nbformat": 4,
 "nbformat_minor": 5
}
